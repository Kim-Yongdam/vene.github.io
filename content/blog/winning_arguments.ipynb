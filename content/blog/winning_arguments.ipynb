{
 "cells": [
  {
   "cell_type": "markdown",
   "metadata": {},
   "source": [
    "# Winning arguments and malleable opinions on /r/ChangeMyView"
   ]
  },
  {
   "cell_type": "markdown",
   "metadata": {},
   "source": [
    "*I have the honor of featuring another guest post on my blog. This time, we have with us my friend [Chenhao Tan](https://chenhaot.com). We recently collaborated on [an effort to understand how people change their minds](https://chenhaot.com/pages/changemyview.html) on the [`/r/ChangeMyView`](http://reddit.com/r/changemyview) subreddit.\n",
    "\n",
    "One of the many reasons why people are beautiful and fascinating is the way we change.  I get reminded of how much I have changed everytime I see a photo of myself from high school, and this always triggers memories of how my opinions and attitudes have changed over the years. Some of the beliefs I held most strongly ended up being abandonded completely, while others have not changed much. <span style='color: red'>*If you're bored already, scroll down, this blog post has code too!*</span>\n",
    "    \n",
    "Attitude change and persuasion has been an appealing research topic for a long time.  One of the more interesting theories on this issue is [*the backfire effect*](http://youarenotsosmart.com/2011/06/10/the-backfire-effect/):\n",
    "\n",
    "> When your deepest convictions are challenged by contradictory evidence, your beliefs get stronger.\n",
    "\n",
    "Earlier studies, however, suggest a lot more nuance. For instance, individuals who [*affirm their self*](https://en.wikipedia.org/wiki/Self-affirmation) were [found](https://ed.stanford.edu/sites/default/files/when_beliefs_yield.pdf) to be more likely to be persuaded by evidence.  Studying opinion change *in the wild* can be difficult.  Many times, people change their mind slowly and subtly, over a number of years, making it difficult to pinpoint the exact moment or cause of the change.  Also, a change of opinion on a minor, inconsequential topic may not be worth discussing.\n",
    "\n",
    "We contributed to the efforts by studying [`/r/ChangeMyView`](http://reddit.com/r/changemyview) (CMV), an online forum of civil, open-minded discussion where people invite other members to challenge their more controversial views.  If you've never visited CMV, the concept that people can debate hot topics without getting into flame wars on the internet might be hard to believe.  Or, if you read a lot of Youtube comments, you might be inclined to believe *the backfire effect*, and doubt that graceful concession is even possible online.  But a quick trip to this great subreddit will undoubtably make you a believer.\n",
    "\n",
    "## What makes `/r/ChangeMyView` special?\n",
    "\n",
    "Some of the more interesting reasons why CMV is a cool lens for the study of persuasion is:\n",
    "\n",
    " * Original posters (OP) select views that are important to them and controversial, but, by posting them there, manifest a *de facto* openness to counterarguments.\n",
    " \n",
    " * For an OP's opinion, there are usually multiple, high-quality persuasion attempts, but most are unsuccessful. By comparing challenges to the same person's opinion, we avoid the *trap* of actually finding that some issues are easier to challenge than others.\n",
    " \n",
    " * Successful arguments are explicitly marked with a delta (Δ). *Hooray for supervised learning!*\n",
    " \n",
    " * Even in light of CMV users being open-minded, *not all opinions are changed*, and not just due to a lack of trying. This gives us a chance to analyze *resistance to persuasion*.\n",
    "\n",
    "\n",
    "\n",
    "\n",
    "## Taking a look at the dataset\n",
    "\n",
    "I know what you're thinking, a little less conversation, let's actually look at some examples.  Sure, our pleasure! Let's download the dataset that we compiled.\n",
    "\n",
    "**Warning:** If you're following along at home, and you don't already have it, this will download the 321M file `cmv.tar.bz2`.  We kept the code simple, but the downside is that your Jupyter kernel will be busy until the file is downloaded.  If, by any chance, your connection drops or you interrupt it, you will have to remove the partial file, otherwise the rest of the notebook might not work."
   ]
  },
  {
   "cell_type": "code",
   "execution_count": 1,
   "metadata": {
    "collapsed": false
   },
   "outputs": [],
   "source": [
    "# load the data\n",
    "import tarfile\n",
    "import os.path\n",
    "import json\n",
    "import re\n",
    "from bz2 import BZ2File\n",
    "from urllib import request\n",
    "from io import BytesIO\n",
    "\n",
    "import numpy as np\n",
    "\n",
    "\n",
    "fname = \"cmv.tar.bz2\"\n",
    "url = \"https://chenhaot.com/data/cmv/\" + fname\n",
    "op_fname = \"op_task/train_op_data.jsonlist.bz2\"\n",
    "\n",
    "# download if not exists\n",
    "if not os.path.isfile(fname):\n",
    "    f = BytesIO()\n",
    "    with request.urlopen(url) as resp, open(fname, 'wb') as f_disk:\n",
    "        data = resp.read()\n",
    "        f_disk.write(data)  # save to disk too\n",
    "        f.write(data)\n",
    "        f.seek(0)\n",
    "else:\n",
    "    f = open(fname, 'rb')\n",
    "\n",
    "\n",
    "tar = tarfile.open(fileobj=f, mode=\"r\")\n",
    "\n",
    "# Extract the file we are interested in\n",
    "train_bzlist = tar.extractfile(op_fname)\n",
    "\n",
    "# Deserialize the JSON list\n",
    "original_posts = [\n",
    "    json.loads(line.decode('utf-8'))\n",
    "    for line in BZ2File(train_bzlist)\n",
    "]\n",
    "\n",
    "f.close()"
   ]
  },
  {
   "cell_type": "markdown",
   "metadata": {},
   "source": [
    "In this blog post, we are going to focus on the original posts, rather than the arguments made in response to them.  In the final part of our paper, we explored *resistance to persuasion*: recognizing whether an OP is likely to be persuaded or not, given how they express their view.  We insist on this because we think it's interesting and we know there's plenty more work to be done on this task: we merely scratched the surface! So, hopefully, this quick tour will make you want to work on this."
   ]
  },
  {
   "cell_type": "code",
   "execution_count": 2,
   "metadata": {
    "collapsed": true
   },
   "outputs": [],
   "source": [
    "from IPython.display import Markdown\n",
    "\n",
    "\n",
    "def show_post(cmv_post):\n",
    "    md_format = \"**{title}** \\n\\n {selftext}\".format(**cmv_post)\n",
    "    md_format = \"\\n\".join([\"> \" + line for line in md_format.splitlines()])\n",
    "    return Markdown(md_format)"
   ]
  },
  {
   "cell_type": "code",
   "execution_count": 3,
   "metadata": {
    "collapsed": false
   },
   "outputs": [
    {
     "data": {
      "text/markdown": [
       "> **CMV: Taxation should be voluntary, with individuals retaining the right to opt out of it.** \n",
       "> \n",
       ">  Let me preface this argument by saying that I don't particularly agree with the Tea Party. I'm a Democrat who votes for candidates that support ending the poverty trap, expanding social services, and wish to improve fundamental institutions like education or military service. With that said, I also believe in the concept of personal liberty. This includes the right to refuse taxation upon the basis of... well, whatever the fuck you want.\n",
       "> \n",
       "> I know what your thinking, \"But how could we fund things like food stamps if shitty people are like 'fuck those lazy blacks that suck up muh moneyz'?\" However, in order to participate in the American system of democracy, one must agree to pay taxes unconditionally. A citizen ought not be able to decide which services he or she pays for. Instead, one can only receive protection from, say, the police if they pay every tax mandated by the local, state, or federal government.\n",
       "> In my opinion, this would create a voluntary political system where individual rights are maintained. If we believe that the government overwhelmingly improves our own conditions, as I do, then only a small amount of citizens would opt out of public services because they disagree with certain elements of policy. Within the framework of government existing because it benefits the people, no one should expect a sudden drop in tax revenues because citizens are intelligent enough to understand how their own interests are promoted by the state on balance.\n",
       "> \n",
       "> So go forth and CMV, noble redditors!\n",
       "> _____\n",
       "> \n",
       "> &gt; *Hello, users of CMV! This is a footnote from your moderators. We'd just like to remind you of a couple of things. Firstly, please remember to* ***[read through our rules](http://www.reddit.com/r/changemyview/wiki/rules)***. *If you see a comment that has broken one, it is more effective to report it than downvote it. Speaking of which,* ***[downvotes don't change views](http://www.reddit.com/r/changemyview/wiki/guidelines#wiki_upvoting.2Fdownvoting)****! If you are thinking about submitting a CMV yourself, please have a look through our* ***[popular topics wiki](http://www.reddit.com/r/changemyview/wiki/populartopics)*** *first. Any questions or concerns? Feel free to* ***[message us](http://www.reddit.com/message/compose?to=/r/changemyview)***. *Happy CMVing!*"
      ],
      "text/plain": [
       "<IPython.core.display.Markdown object>"
      ]
     },
     "execution_count": 3,
     "metadata": {},
     "output_type": "execute_result"
    }
   ],
   "source": [
    "show_post(original_posts[200])"
   ]
  },
  {
   "cell_type": "markdown",
   "metadata": {},
   "source": [
    "What do you think, has this OP's view been changed?\n",
    "\n",
    "*... drumroll ...*"
   ]
  },
  {
   "cell_type": "code",
   "execution_count": 4,
   "metadata": {
    "collapsed": false
   },
   "outputs": [
    {
     "data": {
      "text/plain": [
       "False"
      ]
     },
     "execution_count": 4,
     "metadata": {},
     "output_type": "execute_result"
    }
   ],
   "source": [
    "original_posts[200][\"delta_label\"]"
   ]
  },
  {
   "cell_type": "markdown",
   "metadata": {},
   "source": [
    "This poster has not been successfully persuaded! And just in case you have any doubts that no attempts were made or something, (we checked, trust us), we could go take a look at all comments and discussion by following the `post_id` to the original post on Reddit:"
   ]
  },
  {
   "cell_type": "code",
   "execution_count": 5,
   "metadata": {
    "collapsed": false
   },
   "outputs": [
    {
     "name": "stdout",
     "output_type": "stream",
     "text": [
      "http://reddit.com/r/changemyview/comments/2q03zk\n"
     ]
    }
   ],
   "source": [
    "_, post_id = original_posts[200]['name'].split(\"_\")\n",
    "print(\"http://reddit.com/r/changemyview/comments/{}\".format(post_id))"
   ]
  },
  {
   "cell_type": "markdown",
   "metadata": {},
   "source": [
    "Just by reading the post, it's obvious that some cleanup needs to be done: we should strip the moderator-added footnotes, edits and quotes. We will do this by removing lines starting with \">\", lines starting with \"\\_\\_\\_\\_\", and lines where the string \"edit\" occurs in the first 2 \"words\". *(In the code used for our research, we used __a more careful heuristic__ that involves actual tokenization, but we will keep it simple here and split at white spaces.)*"
   ]
  },
  {
   "cell_type": "code",
   "execution_count": 6,
   "metadata": {
    "collapsed": false
   },
   "outputs": [],
   "source": [
    "def cleanup(cmv_post):\n",
    "    lines = [line for line in cmv_post.splitlines()\n",
    "             if not line.lstrip().startswith(\"&gt;\")\n",
    "             and not line.lstrip().startswith(\"____\")\n",
    "             and \"edit\" not in \" \".join(line.lower().split()[:2])\n",
    "            ]\n",
    "    return \"\\n\".join(lines)"
   ]
  },
  {
   "cell_type": "code",
   "execution_count": 7,
   "metadata": {
    "collapsed": false
   },
   "outputs": [
    {
     "data": {
      "text/markdown": [
       "> **CMV: Taxation should be voluntary, with individuals retaining the right to opt out of it.** \n",
       "> \n",
       ">  Let me preface this argument by saying that I don't particularly agree with the Tea Party. I'm a Democrat who votes for candidates that support ending the poverty trap, expanding social services, and wish to improve fundamental institutions like education or military service. With that said, I also believe in the concept of personal liberty. This includes the right to refuse taxation upon the basis of... well, whatever the fuck you want.\n",
       "> \n",
       "> I know what your thinking, \"But how could we fund things like food stamps if shitty people are like 'fuck those lazy blacks that suck up muh moneyz'?\" However, in order to participate in the American system of democracy, one must agree to pay taxes unconditionally. A citizen ought not be able to decide which services he or she pays for. Instead, one can only receive protection from, say, the police if they pay every tax mandated by the local, state, or federal government.\n",
       "> In my opinion, this would create a voluntary political system where individual rights are maintained. If we believe that the government overwhelmingly improves our own conditions, as I do, then only a small amount of citizens would opt out of public services because they disagree with certain elements of policy. Within the framework of government existing because it benefits the people, no one should expect a sudden drop in tax revenues because citizens are intelligent enough to understand how their own interests are promoted by the state on balance.\n",
       "> \n",
       "> So go forth and CMV, noble redditors!"
      ],
      "text/plain": [
       "<IPython.core.display.Markdown object>"
      ]
     },
     "execution_count": 7,
     "metadata": {},
     "output_type": "execute_result"
    }
   ],
   "source": [
    "show_post(dict(title=original_posts[200]['title'],\n",
    "               selftext=cleanup(original_posts[200]['selftext'])))"
   ]
  },
  {
   "cell_type": "markdown",
   "metadata": {},
   "source": [
    "Now that the cleanup is done, we can think a bit about what, and how, the OP is trying to express here.  We can see several strategies at play:\n",
    "\n",
    " * Prefacing with a cop-out attempting to make their opinion seem more reasonable. \n",
    " * Liberal (pun intended) use of casual language, slang, curse words.\n",
    " * Lots of self-asserting: \"I know, \"I believe\", \"I'm a Democrat\", etc.\n",
    "\n",
    "There is plenty of room for speculation, exploration, finding patterns, and connecting this to existing literature.  Let's focus on one of our results:\n",
    "\n",
    "\n",
    "## Reproducing some results"
   ]
  },
  {
   "cell_type": "markdown",
   "metadata": {},
   "source": [
    "One of our findings was that OPs who express their view using \"we\" are more stubborn than the ones who say \"I\". The example above uses some plural pronouns (\"If we believe\") but overall it seems the opinion is purely self-attributed.  Does this pattern hold in the dataset?"
   ]
  },
  {
   "cell_type": "code",
   "execution_count": 8,
   "metadata": {
    "collapsed": false
   },
   "outputs": [],
   "source": [
    "pron_i = ['ive',\n",
    " \"i'd\",\n",
    " \"i'm\",\n",
    " 'myself',\n",
    " 'mine',\n",
    " 'me',\n",
    " 'im',\n",
    " \"i'll\",\n",
    " 'i',\n",
    " \"i've\",\n",
    " 'id',\n",
    " 'my']"
   ]
  },
  {
   "cell_type": "code",
   "execution_count": 9,
   "metadata": {
    "collapsed": false
   },
   "outputs": [],
   "source": [
    "pron_we = [\"we'd\",\n",
    " \"we're\",\n",
    " 'lets',\n",
    " 'weve',\n",
    " 'we',\n",
    " 'our',\n",
    " 'ourselves',\n",
    " \"let's\",\n",
    " 'ours',\n",
    " 'us',\n",
    " \"we'll\",\n",
    " \"we've\"]"
   ]
  },
  {
   "cell_type": "code",
   "execution_count": 10,
   "metadata": {
    "collapsed": false
   },
   "outputs": [],
   "source": [
    "pron_we_re = re.compile(\"\\\\b({})\\\\b\".format(\"|\".join(pron_we)), re.IGNORECASE)\n",
    "pron_i_re = re.compile(\"\\\\b({})\\\\b\".format(\"|\".join(pron_i)), re.IGNORECASE)"
   ]
  },
  {
   "cell_type": "code",
   "execution_count": 11,
   "metadata": {
    "collapsed": false
   },
   "outputs": [
    {
     "data": {
      "text/plain": [
       "['Weve', 'ourselves']"
      ]
     },
     "execution_count": 11,
     "metadata": {},
     "output_type": "execute_result"
    }
   ],
   "source": [
    "pron_we_re.findall(\"Weve let ourselves go\")"
   ]
  },
  {
   "cell_type": "code",
   "execution_count": 12,
   "metadata": {
    "collapsed": false
   },
   "outputs": [],
   "source": [
    "n_we = []\n",
    "n_i = []\n",
    "for post in original_posts:\n",
    "    content = post[\"selftext\"].lower()\n",
    "    content = cleanup(content)\n",
    "    denom = len(content.split())\n",
    "    if denom:\n",
    "        n_we.append(len(pron_we_re.findall(content)) / denom)\n",
    "        n_i.append(len(pron_i_re.findall(content)) / denom)\n",
    "    else:\n",
    "        # there is one instance that consists only of edits.\n",
    "        # It's possible that the OP deleted the rest of the post.\n",
    "        n_we.append(0)\n",
    "        n_i.append(0)"
   ]
  },
  {
   "cell_type": "code",
   "execution_count": 13,
   "metadata": {
    "collapsed": false
   },
   "outputs": [],
   "source": [
    "n_we = np.array(n_we)\n",
    "n_i = np.array(n_i)\n",
    "\n",
    "is_malleable = np.array([post[\"delta_label\"] for post in original_posts])"
   ]
  },
  {
   "cell_type": "code",
   "execution_count": 14,
   "metadata": {
    "collapsed": false
   },
   "outputs": [],
   "source": [
    "%matplotlib inline\n",
    "import matplotlib.pyplot as plt\n",
    "import seaborn as sns"
   ]
  },
  {
   "cell_type": "code",
   "execution_count": 15,
   "metadata": {
    "collapsed": false
   },
   "outputs": [],
   "source": [
    "_, green, red, _, _, _ = sns.color_palette()"
   ]
  },
  {
   "cell_type": "code",
   "execution_count": 16,
   "metadata": {
    "collapsed": true
   },
   "outputs": [],
   "source": [
    "from scipy.stats import sem"
   ]
  },
  {
   "cell_type": "code",
   "execution_count": 17,
   "metadata": {
    "collapsed": false
   },
   "outputs": [
    {
     "data": {
      "image/png": "[encoded data removed]",
      "text/plain": [
       "<matplotlib.figure.Figure at 0x7f89d6d3a4a8>"
      ]
     },
     "metadata": {},
     "output_type": "display_data"
    }
   ],
   "source": [
    "def compare_bars(feature, y):\n",
    "    pos = feature[y]\n",
    "    neg = feature[~y]\n",
    "    plt.bar(\n",
    "        [1, 2],\n",
    "        [pos.mean(), neg.mean()],\n",
    "        yerr=[1.96 * sem(pos), 1.96 * sem(neg)],  # ~95% ci\n",
    "        align='center',\n",
    "        color=[green, red],\n",
    "        alpha=0.8,\n",
    "        lw=3,\n",
    "        error_kw=dict(ecolor='k', lw=2, capsize=5, capthick=3)\n",
    "    )\n",
    "    plt.xticks((1, 2), [\"Malleable\", \"Stubborn\"], fontsize=16)\n",
    "    plt.yticks(fontsize=16)\n",
    "\n",
    "plt.figure(figsize=(7, 4))\n",
    "plt.subplot(121)\n",
    "plt.title(\"First person plural\\n('we')\", fontsize=20)\n",
    "compare_bars(n_we, is_malleable)\n",
    "plt.ylabel(\"Proportion of words\", fontsize=20)\n",
    "\n",
    "plt.subplot(122)\n",
    "plt.title(\"First person singular\\n('I')\", fontsize=20)\n",
    "compare_bars(n_i, is_malleable)\n",
    "\n",
    "plt.tight_layout()"
   ]
  },
  {
   "cell_type": "markdown",
   "metadata": {},
   "source": [
    "## Training a simple classifier\n",
    "\n",
    "We can take this one step further and train a simple bag-of-words classifier using [`scikit-learn`](http://scikit-learn.org/).  Bag-of-words is often a good baseline, and a good *debugging* tool: sometimes, problems are simpler than we think, and bag-of-words can catch this and hint that we're being too optimistic.  (For an example of what I mean, try running the code below without the \"cleanup\" step.)"
   ]
  },
  {
   "cell_type": "code",
   "execution_count": 18,
   "metadata": {
    "collapsed": true
   },
   "outputs": [],
   "source": [
    "from sklearn.feature_extraction.text import TfidfVectorizer\n",
    "from sklearn.cross_validation import train_test_split\n",
    "from sklearn.linear_model import LogisticRegressionCV\n",
    "from sklearn.metrics.scorer import roc_auc_scorer"
   ]
  },
  {
   "cell_type": "code",
   "execution_count": 19,
   "metadata": {
    "collapsed": false
   },
   "outputs": [],
   "source": [
    "# prepare the data in Python list form\n",
    "\n",
    "op_text = [\n",
    "    cleanup(original_post['selftext'])\n",
    "    # original_post['selftext']  # try this at home\n",
    "    for original_post\n",
    "    in original_posts\n",
    "]"
   ]
  },
  {
   "cell_type": "code",
   "execution_count": 20,
   "metadata": {
    "collapsed": false
   },
   "outputs": [],
   "source": [
    "# Leave out a 10% test set\n",
    "splitted = train_test_split(op_text,\n",
    "                            is_malleable,\n",
    "                            test_size=0.1,\n",
    "                            stratify=is_malleable,\n",
    "                            random_state=0)\n",
    "text_train, text_test, y_train, y_test = splitted"
   ]
  },
  {
   "cell_type": "markdown",
   "metadata": {},
   "source": [
    "We will use a simple term-frequency vectorizer with no IDF and no data-dependent thresholds. This allows us to vectorize all of the training data once, and then do efficient model selection using LogisticRegressionCV, without having to vectorize again for each cross-validation fold.\n",
    "\n",
    "*Side note: *This is important!  Imagine we wanted to throw away rare words, to avoid overfitting to them. We could use, for example, `min_df=10`.  This would keep all words that appear 10 times in the *training data*.  But, in a moment, we will be doing 3-fold cross-validation.  Consider the first cross-validation split: what if we encounter a word that occurs 5 times in the train fold and 5 times in the validation fold?  If we vectorized *outside* of the CV loop, we would keep this word, and assign it a weight estimated from very few observations.  This could lead us to overestimate our validation performance."
   ]
  },
  {
   "cell_type": "code",
   "execution_count": 21,
   "metadata": {
    "collapsed": true
   },
   "outputs": [],
   "source": [
    "vect = TfidfVectorizer(use_idf=False, norm='l1')\n",
    "X_train = vect.fit_transform(text_train)\n",
    "X_test = vect.transform(text_test)"
   ]
  },
  {
   "cell_type": "code",
   "execution_count": 22,
   "metadata": {
    "collapsed": false
   },
   "outputs": [],
   "source": [
    "lr = LogisticRegressionCV(Cs=10, class_weight='balanced',\n",
    "                          scoring='roc_auc', solver='sag',\n",
    "                          tol=0.001, max_iter=500,\n",
    "                          random_state=0)"
   ]
  },
  {
   "cell_type": "code",
   "execution_count": 23,
   "metadata": {
    "collapsed": false
   },
   "outputs": [
    {
     "data": {
      "text/plain": [
       "LogisticRegressionCV(Cs=10, class_weight='balanced', cv=None, dual=False,\n",
       "           fit_intercept=True, intercept_scaling=1.0, max_iter=500,\n",
       "           multi_class='ovr', n_jobs=1, penalty='l2', random_state=0,\n",
       "           refit=True, scoring='roc_auc', solver='sag', tol=0.001,\n",
       "           verbose=0)"
      ]
     },
     "execution_count": 23,
     "metadata": {},
     "output_type": "execute_result"
    }
   ],
   "source": [
    "lr.fit(X_train, y_train)"
   ]
  },
  {
   "cell_type": "code",
   "execution_count": 24,
   "metadata": {
    "collapsed": false
   },
   "outputs": [
    {
     "name": "stdout",
     "output_type": "stream",
     "text": [
      "Test ROC AUC score: 0.537\n"
     ]
    }
   ],
   "source": [
    "test_roc = roc_auc_scorer(lr, X_test, y_test)\n",
    "print(\"Test ROC AUC score: {:.3f}\".format(test_roc))"
   ]
  },
  {
   "cell_type": "markdown",
   "metadata": {},
   "source": [
    "The score is in the same ballpark as the results in our paper.  (Though here we are using a different train-test split, so we could expect some differences.)\n",
    "\n",
    "\n",
    "## Checking out the features\n",
    "\n",
    "We can use the trained model to see what words have high and low weights. You could use the output for further inspiration.  For instance, this could suggest that generalizing words (\"anything\", \"anyone\", \"nothing\") might be a sign of stubbornness.  There is plenty of potential for exploring and expanding our work further, so give it a try!"
   ]
  },
  {
   "cell_type": "code",
   "execution_count": 25,
   "metadata": {
    "collapsed": true
   },
   "outputs": [],
   "source": [
    "def top_features(coef, words, n=15):\n",
    "    order = np.argsort(-coef)\n",
    "    for i_hi, i_lo in zip(order[:n], order[:-n - 1:-1]):\n",
    "        row_vals = coef[i_hi], words[i_hi], coef[i_lo], words[i_lo]\n",
    "        print(\"({:>6.1f}) {:<20}({:>6.1f}) {:<20}\".format(*row_vals))"
   ]
  },
  {
   "cell_type": "code",
   "execution_count": 26,
   "metadata": {
    "collapsed": false
   },
   "outputs": [
    {
     "name": "stdout",
     "output_type": "stream",
     "text": [
      "(  20.0) subject             ( -20.3) anything            \n",
      "(  19.3) philosophy          ( -18.9) minimum             \n",
      "(  18.5) even                ( -18.1) its                 \n",
      "(  18.3) doesn               ( -18.0) population          \n",
      "(  17.6) hard                ( -17.8) course              \n",
      "(  17.2) nice                ( -17.7) justice             \n",
      "(  17.1) ll                  ( -15.7) intelligence        \n",
      "(  17.1) wanted              ( -15.6) nothing             \n",
      "(  16.3) extremely           ( -15.6) having              \n",
      "(  15.2) election            ( -15.5) best                \n",
      "(  15.0) chance              ( -15.0) anyone              \n",
      "(  14.9) likely              ( -14.9) born                \n",
      "(  14.8) so                  ( -14.9) popular             \n",
      "(  14.7) planets             ( -14.7) economic            \n",
      "(  14.3) sports              ( -14.6) immoral             \n"
     ]
    }
   ],
   "source": [
    "top_features(lr.coef_.flatten(), vect.get_feature_names())"
   ]
  },
  {
   "cell_type": "markdown",
   "metadata": {},
   "source": [
    "Much of the social interaction we do online these days can prove useful for research.  In our work, we investigated persuasion and attitude change on `/r/ChangeMyView`.  In this post, we walked through part of the data that we collected and made available.  Hoping that this sparks some inspiration, we are looking forward to hearing what cool new things you will discover!\n",
    "\n",
    "-----"
   ]
  },
  {
   "cell_type": "code",
   "execution_count": 27,
   "metadata": {
    "collapsed": true
   },
   "outputs": [],
   "source": [
    "%load_ext watermark"
   ]
  },
  {
   "cell_type": "code",
   "execution_count": 28,
   "metadata": {
    "collapsed": false
   },
   "outputs": [
    {
     "name": "stdout",
     "output_type": "stream",
     "text": [
      "2016-03-01 \n",
      "\n",
      "CPython 3.4.4\n",
      "IPython 4.1.1\n",
      "\n",
      "numpy 1.10.2\n",
      "scipy 0.16.1\n",
      "scikit-learn 0.17\n",
      "seaborn 0.7.0\n",
      "\n",
      "compiler   : GCC 4.4.7 20120313 (Red Hat 4.4.7-1)\n",
      "system     : Linux\n",
      "release    : 3.19.0-25-generic\n",
      "machine    : x86_64\n",
      "processor  : x86_64\n",
      "CPU cores  : 8\n",
      "interpreter: 64bit\n"
     ]
    }
   ],
   "source": [
    "%watermark -d -v --packages numpy,scipy,scikit-learn,seaborn -m"
   ]
  }
 ],
 "metadata": {
  "kernelspec": {
   "display_name": "Python 3",
   "language": "python",
   "name": "python3"
  },
  "language_info": {
   "codemirror_mode": {
    "name": "ipython",
    "version": 3
   },
   "file_extension": ".py",
   "mimetype": "text/x-python",
   "name": "python",
   "nbconvert_exporter": "python",
   "pygments_lexer": "ipython3",
   "version": "3.4.4"
  }
 },
 "nbformat": 4,
 "nbformat_minor": 0
}
