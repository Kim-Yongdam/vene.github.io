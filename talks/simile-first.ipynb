{
 "metadata": {
  "name": "simile-first"
 },
 "nbformat": 3,
 "nbformat_minor": 0,
 "worksheets": [
  {
   "cells": [
    {
     "cell_type": "markdown",
     "metadata": {
      "slideshow": {
       "slide_type": "slide"
      }
     },
     "source": [
      "Recognizing similes\n",
      "===================\n",
      "_a work in progress_\n",
      "\n",
      "---\n",
      "\n",
      "Victoria Ianeva\n",
      "\n",
      "[Vlad Niculae](http://vene.ro)\n",
      "\n",
      "With many tHanks to prof. Patrick Hanks!"
     ]
    },
    {
     "cell_type": "markdown",
     "metadata": {
      "slideshow": {
       "slide_type": "slide"
      }
     },
     "source": [
      "# Current status\n",
      "\n",
      "- Similes have been neglected in favour of metaphor\n",
      "- Several works on simile structure, classification, understanding\n",
      "- Existing theories weren't made with NLP in mind"
     ]
    },
    {
     "cell_type": "markdown",
     "metadata": {
      "slideshow": {
       "slide_type": "subslide"
      }
     },
     "source": [
      "# Objectives\n",
      "- Ask the right questions about similes\n",
      "    - distinguish similes / comparisons / others\n",
      "    - identify the parts of a simile\n",
      "    - analyze a simile (e.g. is it clear? is it creative?)\n",
      "- Try to answer __computationally__\n",
      "- Invite others to answer them"
     ]
    },
    {
     "cell_type": "markdown",
     "metadata": {
      "slideshow": {
       "slide_type": "subslide"
      }
     },
     "source": [
      "# Motivation\n",
      "\n",
      "- People with ASD have trouble with figurative language (nod to Victoria's talk)\n",
      "- Similes have a specific but flexible structure\n",
      "- Similes are __not__ \"simpler metaphors\"!"
     ]
    },
    {
     "cell_type": "markdown",
     "metadata": {
      "slideshow": {
       "slide_type": "fragment"
      }
     },
     "source": [
      "- not usually, at least: \"Similes often can't be reformulated as metaphors\" (Hanks, 2012)"
     ]
    },
    {
     "cell_type": "markdown",
     "metadata": {
      "slideshow": {
       "slide_type": "slide"
      }
     },
     "source": [
      "# The structure of comparisons\n",
      "\n",
      "First note that:\n",
      "    \n",
      "- all similes are comparisons by definition\n",
      "- similes and comparison have the same structure"
     ]
    },
    {
     "cell_type": "markdown",
     "metadata": {
      "slideshow": {
       "slide_type": "fragment"
      }
     },
     "source": [
      "Syntactic elements (in Hanks, 2012)\n",
      "\n",
      "1. Topic \n",
      "2. Event or state\n",
      "3. Property\n",
      "4. Comparator\n",
      "5. Vehicle\n",
      "\n",
      "> [He $^1$] [looked $^2$] [like $^4$] [a broiled frog $^5$], [hunched $^3$] over his desk, grinning and satisfied."
     ]
    },
    {
     "cell_type": "markdown",
     "metadata": {
      "slideshow": {
       "slide_type": "slide"
      }
     },
     "source": [
      "# Other points of view\n",
      "\n",
      "- Fishelov (1993) identifies $T$, $P$, $C$, $V$, overlooks $E$\n",
      "- Fishelov (2007) studies simile comprehension with toy phrases (fixed human $T$, $\\pm P$, variable $V$)\n",
      "- Veale (2010) mines the \"as $\\alpha$ as $X$\" pattern to learn conventional properties"
     ]
    },
    {
     "cell_type": "markdown",
     "metadata": {
      "slideshow": {
       "slide_type": "subslide"
      }
     },
     "source": [
      "# What's missing\n",
      "\n",
      "- The focus is on questionable types of simile\n",
      "- We'd prefer __corpus evidence__ to know what the real problems are.\n",
      "- Hanks (2012):\n",
      "    - Similes are used to introduce new things\n",
      "    - The vehicle is rarely something experienced\n",
      "- It's clearly not enough to handle conventional similes and salient traits!"
     ]
    },
    {
     "cell_type": "markdown",
     "metadata": {
      "slideshow": {
       "slide_type": "subslide"
      }
     },
     "source": [
      "# What else is missing\n",
      "\n",
      "- The importance of the event or state marker $E$ is underestimated\n",
      "- We argue it is the core of the simile:\n",
      "    - Syntactically, all elements orbit around it\n",
      "- A specific $E$ seems to make it easier to understand, give hints for guessing $P$:\n",
      "\n",
      "> My coffee __is__ like rain-soaked cigars.\n",
      "\n",
      "versus\n",
      "\n",
      "> [Help! My coffee __tastes__ like rain-soaked cigars.](http://makegoodcoffee.com/coffee-talk/help-my-coffee-tastes-like-rain-soaked-cigars/)\n",
      "\n",
      "- Idea: To simplify a simile, make $E$ more specific."
     ]
    },
    {
     "cell_type": "markdown",
     "metadata": {
      "slideshow": {
       "slide_type": "slide"
      }
     },
     "source": [
      "# [GLARF](http://nlp.cs.nyu.edu/meyers/GLARF.html)\n",
      "\n",
      "- Grammatical and Logical Argument Representation Framework\n",
      "- Basically a parse tree enricher\n",
      "- Meyers et al (2001) at NYU, software released late 2011\n",
      "- Hope to avoid it eventually, good for boodstrapping\n"
     ]
    },
    {
     "cell_type": "markdown",
     "metadata": {
      "slideshow": {
       "slide_type": "subslide"
      }
     },
     "source": [
      "# pyglarf\n",
      "\n",
      "- Developed by Vlad last summer during an FBK internship (see [slides](http://vene.ro/papers/fbk-te-12.pdf))\n",
      "- Available on [GitHub](https://github.com/vene/pyglarf)\n",
      "- Lets you call GLARF and play around with the output trees easily:"
     ]
    },
    {
     "cell_type": "code",
     "collapsed": false,
     "input": [
      "from pyglarf import GlarfWrapper, GlarfTree\n",
      "\n",
      "text = \"My coffee tastes like rain-soaked cigars.\"\n",
      "with GlarfWrapper() as glarf:\n",
      "    sent, parsed, glarfed = glarf.make_sentences(text)\n",
      "\n",
      "print parsed[0]  # the zero is since there is only one sentence"
     ],
     "language": "python",
     "metadata": {},
     "outputs": [
      {
       "output_type": "stream",
       "stream": "stdout",
       "text": [
        "(S1 (S (NP (PRP$ My) (NN coffee)) (VP (VBZ tastes) (PP (IN like) (NP (JJ rain-soaked) (NNS cigars)))) (. .)))\n"
       ]
      }
     ],
     "prompt_number": 56
    },
    {
     "cell_type": "code",
     "collapsed": false,
     "input": [
      "print glarfed[0][:512] + '...'  # And here is a part of the corresponding GLARF tree"
     ],
     "language": "python",
     "metadata": {
      "slideshow": {
       "slide_type": "subslide"
      }
     },
     "outputs": [
      {
       "output_type": "stream",
       "stream": "stdout",
       "text": [
        "((S\n",
        "  (SBJ\n",
        "   (NP (T-POS (PRP$ My 0)) (HEAD (NN coffee 1)) (PTB2-POINTER |0+1|)\n",
        "    (INDEX 3)))\n",
        "  (PRD\n",
        "   (VP\n",
        "    (HEAD\n",
        "     (VG (HEAD (VBZ tastes 2)) (P-ARG0 (NP (EC-TYPE PB) (INDEX 3))) (INDEX 9)\n",
        "      (BASE TASTE) (VERB-SENSE 1) (SENSE-NAME \"USE ONE'S TASTEBUDS\")))\n",
        "    (ADV\n",
        "     (PP (HEAD (IN like 3))\n",
        "      (OBJ\n",
        "       (NP\n",
        "        (S-A-POS\n",
        "         (S (I-SBJ (NP (EC-TYPE REL) (INDEX 5)))\n",
        "          (PRD\n",
        "           (VP (S-STEM (NX (HEAD (NN rain 4)) (INDEX 7)))\n",
        "            (PUNCTUATION (HYPH - 5))\n",
        "        ...\n"
       ]
      }
     ],
     "prompt_number": 55
    },
    {
     "cell_type": "markdown",
     "metadata": {
      "slideshow": {
       "slide_type": "subslide"
      }
     },
     "source": [
      "# Extract relations\n",
      "\n",
      "- Triggered by verbs and nominalizations\n",
      "- Carry around all the information we can"
     ]
    },
    {
     "cell_type": "code",
     "collapsed": false,
     "input": [
      "tree = GlarfTree.glarf_parse(glarfed[0])\n",
      "for rel in tree.rels():\n",
      "    print rel"
     ],
     "language": "python",
     "metadata": {
      "slideshow": {
       "slide_type": "-"
      }
     },
     "outputs": [
      {
       "output_type": "stream",
       "stream": "stdout",
       "text": [
        "TASTE/2 [CATEGORY: VG, INDEX: 9, SENSE-NAME: \"USE ONE'S TASTEBUDS\", VERB-SENSE: 1, PARENT_CATEGORY: VP]\n",
        "P-ARG0 [SBJ NP INDEX: 3]:  My/0 coffee/1 (NP+T-POS 0-1)\n",
        "ADV [PP INDEX: None]: like/3 rain/4 soaked/6 cigars/7 (HEAD+IN 3-3, OBJ+NP 4-7)\n",
        "\n",
        "SOAK/6 [CATEGORY: VG, INDEX: 10, SENSE-NAME: \"ABSORB\", PARENT_CATEGORY: VP, VERB-SENSE: 2, VOICE: PASSIVE]\n",
        "P-ARG1 [HEAD NX INDEX: 5]:  cigars/7 (NX+HEAD 7-7)\n",
        "P-ARG2 [S-STEM NX INDEX: 7]:  rain/4 (NX+HEAD 4-4)\n",
        "\n"
       ]
      }
     ],
     "prompt_number": 57
    },
    {
     "cell_type": "code",
     "collapsed": false,
     "input": [
      "# This is internal code needed for the below. Very poor and early\n",
      "\n",
      "from pprint import pprint\n",
      "\n",
      "def _safe_filter_comparator(node_or_string):\n",
      "    \"\"\"Returns True when passed a comparison trigger node, False elsewhere\"\"\"\n",
      "    return (hasattr(node_or_string, 'node') and node_or_string.node == 'IN' and\n",
      "            node_or_string[0] == 'like')\n",
      "\n",
      "\n",
      "def _get_sbj(rel):\n",
      "    for role_a, role_b, _, arg_tree in rel.args.values():\n",
      "        if 'SBJ' in role_a or 'SBJ' == role_b:\n",
      "            return arg_tree\n",
      "\n",
      "\n",
      "def find_comparison_nodes(tree):\n",
      "    comparison_nodes = []\n",
      "    for rel in tree.rels():\n",
      "        for _, _, _, arg_trees in rel.args.values():\n",
      "            for arg_tree in arg_trees:\n",
      "                for pos in arg_tree.treepositions():\n",
      "                    if _safe_filter_comparator(arg_tree[pos]):\n",
      "                        comparison_nodes.append((rel, arg_tree))\n",
      "        for _, _, arg_tree in rel.advs.values():\n",
      "            for pos in arg_tree.treepositions():\n",
      "                if _safe_filter_comparator(arg_tree[pos]):\n",
      "                    comparison_nodes.append((rel, arg_tree))\n",
      "    return comparison_nodes\n",
      "\n",
      "\n",
      "def get_args(rel, comparison_arg):\n",
      "    sbj = _get_sbj(rel)\n",
      "    veh = comparison_arg\n",
      "    return {\n",
      "        'theme': sbj[0].print_flat(False, False) if sbj else \"\",\n",
      "        'state': rel.head,\n",
      "        'comparator': 'like*',\n",
      "        'vehicle': veh.print_flat(False, False) if veh else \"\",\n",
      "    }\n"
     ],
     "language": "python",
     "metadata": {
      "slideshow": {
       "slide_type": "skip"
      }
     },
     "outputs": [],
     "prompt_number": 54
    },
    {
     "cell_type": "markdown",
     "metadata": {
      "slideshow": {
       "slide_type": "subslide"
      }
     },
     "source": [
      "- And with some custom code (not shown in slides, available if you right-click and view source), we can match all comparisons that use \"like\":"
     ]
    },
    {
     "cell_type": "code",
     "collapsed": false,
     "input": [
      "for comparison in find_comparison_nodes(tree):\n",
      "    pprint(get_args(*comparison))"
     ],
     "language": "python",
     "metadata": {
      "slideshow": {
       "slide_type": "-"
      }
     },
     "outputs": [
      {
       "output_type": "stream",
       "stream": "stdout",
       "text": [
        "{'comparator': 'like*',\n",
        " 'state': 'TASTE',\n",
        " 'theme': 'My coffee',\n",
        " 'vehicle': 'like rain soaked cigars'}\n"
       ]
      }
     ],
     "prompt_number": 51
    },
    {
     "cell_type": "markdown",
     "metadata": {
      "slideshow": {
       "slide_type": "slide"
      }
     },
     "source": [
      "# What now?\n",
      "\n",
      "- We developed this on the 20 examples of similes and comparisons from Hanks (2005)\n",
      "- Build a comparison dataset, with as much variation as possible!\n",
      "- More patterns to identify comparison nodes\n",
      "- Move away from GLARF, try to use only a dependency parser"
     ]
    },
    {
     "cell_type": "markdown",
     "metadata": {
      "slideshow": {
       "slide_type": "subslide"
      }
     },
     "source": [
      "# What comes after?\n",
      "\n",
      "- $P$ is more tricky, find it if it appears!\n",
      "- After identification comes categorization\n",
      "- Machine learning, word similarity to decide if it's a simile\n",
      "- Corpus evidence to decide conventional vs. creative\n",
      "- Fill in the blanks!\n"
     ]
    },
    {
     "cell_type": "markdown",
     "metadata": {
      "slideshow": {
       "slide_type": "slide"
      }
     },
     "source": [
      "This presentation (and this presenter) is powered by:\n",
      "    \n",
      "- [IPython](http://ipython.org)\n",
      "- [the IPython notebook](http://ipython.org/notebook.html)\n",
      "- [The nbconvert/reveal bridge by Damian Avila](http://www.damian.oquanta.info/posts/reveal-converter-mini-tutorial.html) and\n",
      "- [reveal.js](http://lab.hakim.se/reveal-js/)"
     ]
    },
    {
     "cell_type": "code",
     "collapsed": false,
     "input": [],
     "language": "python",
     "metadata": {},
     "outputs": []
    }
   ],
   "metadata": {}
  }
 ]
}